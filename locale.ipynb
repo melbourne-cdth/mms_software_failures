{
 "cells": [
  {
   "cell_type": "markdown",
   "metadata": {},
   "source": [
    "# Locales\n"
   ]
  },
  {
   "cell_type": "markdown",
   "metadata": {},
   "source": [
    "## [``time``](https://docs.python.org/3.5/library/time.html)\n",
    "\n",
    "Let's start with the simplest function in the ``time`` module: ``time``.\n",
    "\n",
    "``time.time`` returns the number of elapsed seconds since the \"epoch.\" \n",
    "\n",
    ">The epoch is the point where the time starts. On January 1st of that year, at 0 hours, the “time since the epoch” is zero. For Unix, the epoch is 1970. To find out what the epoch is, look at gmtime(0). ([Python documentation on the epoch](https://docs.python.org/3.5/library/time.html))"
   ]
  },
  {
   "cell_type": "code",
   "execution_count": null,
   "metadata": {},
   "outputs": [],
   "source": [
    "import time"
   ]
  },
  {
   "cell_type": "code",
   "execution_count": null,
   "metadata": {},
   "outputs": [],
   "source": [
    "\n",
    "time.gmtime(0)"
   ]
  },
  {
   "cell_type": "code",
   "execution_count": null,
   "metadata": {},
   "outputs": [],
   "source": [
    "time.time()"
   ]
  },
  {
   "cell_type": "code",
   "execution_count": null,
   "metadata": {},
   "outputs": [],
   "source": [
    "print(type(time.asctime()))\n",
    "print(time.asctime())"
   ]
  },
  {
   "cell_type": "code",
   "execution_count": null,
   "metadata": {},
   "outputs": [],
   "source": [
    "print(type(time.ctime()))\n",
    "print(time.ctime())\n"
   ]
  },
  {
   "cell_type": "code",
   "execution_count": null,
   "metadata": {},
   "outputs": [],
   "source": [
    "time.gmtime()"
   ]
  },
  {
   "cell_type": "code",
   "execution_count": null,
   "metadata": {},
   "outputs": [],
   "source": [
    "time.localtime()"
   ]
  },
  {
   "cell_type": "code",
   "execution_count": null,
   "metadata": {},
   "outputs": [],
   "source": [
    "time.strftime"
   ]
  },
  {
   "cell_type": "code",
   "execution_count": null,
   "metadata": {},
   "outputs": [],
   "source": [
    "time.strptime"
   ]
  },
  {
   "cell_type": "code",
   "execution_count": null,
   "metadata": {},
   "outputs": [],
   "source": [
    "time.timezone"
   ]
  },
  {
   "cell_type": "markdown",
   "metadata": {},
   "source": [
    "## ``time.struct_time``\n",
    "\n",
    "Python defines a class ``struct_time`` that inherits from the builtin type ``tuple``. The ``struct_time`` class defines attributes needed for unambiguously describing and computing about time.\n",
    "\n"
   ]
  },
  {
   "cell_type": "code",
   "execution_count": null,
   "metadata": {},
   "outputs": [],
   "source": [
    "help(time.struct_time)"
   ]
  },
  {
   "cell_type": "markdown",
   "metadata": {},
   "source": [
    "## Creating strings from ``time_struct``\n",
    "\n",
    "Within our programs we would probably be keeping time data in a ``time_struct`` but we at times might want to present times to users in a more human friendly form. The ``time`` module defines the [``strftime``](https://docs.python.org/3.5/library/time.html#time.strftime) function for creating a string from a ``time_struct`` instance. \n",
    "\n",
    "#### First create a ``time_struct`` instance for my current time"
   ]
  },
  {
   "cell_type": "code",
   "execution_count": null,
   "metadata": {},
   "outputs": [],
   "source": [
    "mytime = time.localtime()\n",
    "print(time.strftime(\"%B %d, %Y\", mytime))\n",
    "print(time.strftime(\"%d %b %Y\", mytime))"
   ]
  },
  {
   "cell_type": "markdown",
   "metadata": {},
   "source": [
    "## [``locale``](https://docs.python.org/3.5/library/locale.html)\n",
    "\n",
    "As we have pointed out, styles for representing time varying across the world. There are a number of other styles that vary across the world. Currency is one obvious variance with $, &#163;, and &euro; being three common western currency symbols. There are also differences in numeric representations. For example, in the United States we use a comma (\",\") as a thousands separater while in countries like France this is the decimal point.\n",
    "\n",
    "Python provides a ``locale`` package to address thee differences. This Python package sits on top of your operating system's programs for handeling locale variation."
   ]
  },
  {
   "cell_type": "code",
   "execution_count": null,
   "metadata": {},
   "outputs": [],
   "source": [
    "import locale \n"
   ]
  },
  {
   "cell_type": "markdown",
   "metadata": {},
   "source": [
    "### What locales are supported?\n",
    "\n",
    "On linux we can run ``locale -a`` on the command line to see what locale's I can work with."
   ]
  },
  {
   "cell_type": "code",
   "execution_count": null,
   "metadata": {},
   "outputs": [],
   "source": [
    "!locale -a"
   ]
  },
  {
   "cell_type": "markdown",
   "metadata": {},
   "source": [
    "#### To get a feel for locale and time we will render our current time in a variety of locale standards"
   ]
  },
  {
   "cell_type": "markdown",
   "metadata": {},
   "source": [
    "#### German"
   ]
  },
  {
   "cell_type": "code",
   "execution_count": null,
   "metadata": {},
   "outputs": [],
   "source": [
    "locale.setlocale(locale.LC_TIME, \"de_DE.UTF-8\")\n",
    "\n",
    "print(time.strftime(\"%B %d, %Y\", mytime))\n",
    "print(time.strftime(\"%d %b %Y\", mytime))\n",
    "locale.atof(\"1,325\")"
   ]
  },
  {
   "cell_type": "markdown",
   "metadata": {},
   "source": [
    "#### Spanish"
   ]
  },
  {
   "cell_type": "code",
   "execution_count": null,
   "metadata": {},
   "outputs": [],
   "source": [
    "locale.setlocale(locale.LC_TIME, \"es_ES.UTF-8\")\n",
    "\n",
    "print(time.strftime(\"%Y %d %B\", mytime))\n",
    "print(time.strftime(\"%Y %b %d\", mytime))\n",
    "locale.atof(\"1,325\")"
   ]
  },
  {
   "cell_type": "markdown",
   "metadata": {},
   "source": [
    "#### Japanese"
   ]
  },
  {
   "cell_type": "code",
   "execution_count": null,
   "metadata": {},
   "outputs": [],
   "source": [
    "locale.setlocale(locale.LC_ALL, \"ja_JP.UTF-8\")\n",
    "\n",
    "print(time.strftime(\"%B %d, %Y\", mytime))\n",
    "print(time.strftime(\"%d %b %Y\", mytime))\n",
    "locale.atof(\"1,325\")"
   ]
  },
  {
   "cell_type": "markdown",
   "metadata": {},
   "source": [
    "#### Chinese"
   ]
  },
  {
   "cell_type": "code",
   "execution_count": null,
   "metadata": {},
   "outputs": [],
   "source": [
    "locale.setlocale(locale.LC_ALL, \"zh_CN.UTF-8\")\n",
    "\n",
    "print(time.strftime(\"%B %d, %Y\", mytime))\n",
    "print(time.strftime(\"%d %b %Y\", mytime))\n",
    "locale.atof(\"1,325\")"
   ]
  },
  {
   "cell_type": "markdown",
   "metadata": {},
   "source": [
    "### Greek"
   ]
  },
  {
   "cell_type": "code",
   "execution_count": null,
   "metadata": {},
   "outputs": [],
   "source": [
    "locale.setlocale(locale.LC_ALL, \"el_GR.UTF-8\")\n",
    "\n",
    "print(time.strftime(\"%B %d, %Y\", mytime))\n",
    "print(time.strftime(\"%d %b %Y\", mytime))\n",
    "locale.atof(\"1,325\")"
   ]
  },
  {
   "cell_type": "markdown",
   "metadata": {},
   "source": [
    "### Brazilian Portugese"
   ]
  },
  {
   "cell_type": "code",
   "execution_count": null,
   "metadata": {},
   "outputs": [],
   "source": [
    "locale.setlocale(locale.LC_ALL, \"pt_BR.UTF-8\")\n",
    "\n",
    "print(time.strftime(\"%B %d, %Y\", mytime))\n",
    "print(time.strftime(\"%d %b %Y\", mytime))\n",
    "locale.atof(\"1,325\")"
   ]
  },
  {
   "cell_type": "markdown",
   "metadata": {},
   "source": [
    "### Set locale back to your local locale"
   ]
  },
  {
   "cell_type": "code",
   "execution_count": null,
   "metadata": {},
   "outputs": [],
   "source": [
    "locale.setlocale(locale.LC_ALL, \"\")\n"
   ]
  },
  {
   "cell_type": "code",
   "execution_count": null,
   "metadata": {},
   "outputs": [],
   "source": [
    "time.strftime(\"%x %X \", mytime)"
   ]
  },
  {
   "cell_type": "code",
   "execution_count": null,
   "metadata": {},
   "outputs": [],
   "source": []
  },
  {
   "cell_type": "code",
   "execution_count": null,
   "metadata": {
    "jupyter": {
     "outputs_hidden": true
    }
   },
   "outputs": [],
   "source": []
  }
 ],
 "metadata": {
  "@webio": {
   "lastCommId": null,
   "lastKernelId": null
  },
  "kernelspec": {
   "display_name": "Python 3 (ipykernel)",
   "language": "python",
   "name": "python3"
  },
  "language_info": {
   "codemirror_mode": {
    "name": "ipython",
    "version": 3
   },
   "file_extension": ".py",
   "mimetype": "text/x-python",
   "name": "python",
   "nbconvert_exporter": "python",
   "pygments_lexer": "ipython3",
   "version": "3.8.2"
  }
 },
 "nbformat": 4,
 "nbformat_minor": 4
}
