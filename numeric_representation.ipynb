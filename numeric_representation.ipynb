{
 "cells": [
  {
   "cell_type": "code",
   "execution_count": null,
   "id": "32fe4b78",
   "metadata": {},
   "outputs": [],
   "source": [
    "include(\"Utils.jl\") ;"
   ]
  },
  {
   "cell_type": "markdown",
   "id": "82976682",
   "metadata": {},
   "source": [
    "# Some basic computing principles and their relationships to potential software failures\n",
    "\n",
    "The examples I'm going to give are primarily in [Julia](https://julialang.org/), but the basic ideas are true for all languages. How a particular language deals with a failure, however, will be unique.\n"
   ]
  },
  {
   "cell_type": "markdown",
   "id": "5c08709f",
   "metadata": {},
   "source": [
    "## Here is a simple question.\n",
    "\n",
    "What is the difference between `x`, `y`, and `z` in the code below?\n",
    "\n",
    "```Julia\n",
    "x = 1\n",
    "y = 1.0\n",
    "z = \"1.0\"\n",
    "```\n",
    "\n",
    "We can have Julia tell us what these variables are:"
   ]
  },
  {
   "cell_type": "code",
   "execution_count": null,
   "id": "bc81ba70",
   "metadata": {},
   "outputs": [],
   "source": [
    "x= 1; y = 1.0 ; z = \"1.5\" ;"
   ]
  },
  {
   "cell_type": "code",
   "execution_count": null,
   "id": "9efbe42a",
   "metadata": {},
   "outputs": [],
   "source": [
    "println(typesof(1,1.0,\"1.0\"))"
   ]
  },
  {
   "cell_type": "markdown",
   "id": "e0d9bde9",
   "metadata": {},
   "source": [
    "Each of these representation has implications for what can be done with them. Let's start by looking at `Int64` a computer representation of an integer.\n",
    "\n",
    "What is the result of the following statements?\n",
    "\n",
    "- $3 + 1$\n",
    "- $13527 + 1$\n",
    "- $9223372036854775807 + 1$"
   ]
  },
  {
   "cell_type": "code",
   "execution_count": null,
   "id": "c8d0a229",
   "metadata": {},
   "outputs": [],
   "source": [
    "3+1"
   ]
  },
  {
   "cell_type": "code",
   "execution_count": null,
   "id": "d399131a",
   "metadata": {},
   "outputs": [],
   "source": [
    "13527+1"
   ]
  },
  {
   "cell_type": "code",
   "execution_count": null,
   "id": "cff24e01",
   "metadata": {},
   "outputs": [],
   "source": [
    "9223372036854775807+1"
   ]
  },
  {
   "cell_type": "code",
   "execution_count": null,
   "id": "7b359b09",
   "metadata": {},
   "outputs": [],
   "source": [
    "bignplus1"
   ]
  },
  {
   "cell_type": "markdown",
   "id": "51bdf946",
   "metadata": {},
   "source": [
    "## Here is a more subtle question\n",
    "\n",
    "### Can you identify any notable differences between the following two numbers?\n",
    "\n",
    "```julia\n",
    "\n",
    "0.1 ;\n",
    "0.125 ;\n",
    "```\n"
   ]
  },
  {
   "cell_type": "markdown",
   "id": "b08afdff",
   "metadata": {},
   "source": [
    "### Create variables with these values"
   ]
  },
  {
   "cell_type": "code",
   "execution_count": null,
   "id": "4056491e",
   "metadata": {},
   "outputs": [],
   "source": [
    "Δ₀ = 0.1"
   ]
  },
  {
   "cell_type": "code",
   "execution_count": null,
   "id": "ba49dacb",
   "metadata": {},
   "outputs": [],
   "source": [
    "Δ₁ = 0.125"
   ]
  },
  {
   "cell_type": "code",
   "execution_count": null,
   "id": "1132831a",
   "metadata": {},
   "outputs": [],
   "source": [
    "typeof(Δ₀), typeof(Δ₁)"
   ]
  },
  {
   "cell_type": "markdown",
   "id": "ee4adad8",
   "metadata": {},
   "source": [
    "Remember how we represent numbers in our __positional number representation__.\n",
    "\n",
    "The number `1893` means\n",
    "\n",
    "$$\n",
    "1\\times 10^3 + 8\\times 10^2 + 9\\times 10^1 +3\\times10^0\n",
    "$$\n",
    "\n",
    "And the number `18.93` means\n",
    "\n",
    "$$\n",
    "1\\times 10^1 + 8\\times 10^0 + 9\\times 10^{-1} + 3\\times 10^{-2}\n",
    "$$\n",
    "\n",
    "These numbers are __base 10__ because each position represents a different power of 10.\n",
    "\n",
    "But recall from module 1, computers are __base 2__ (binary).\n",
    "\n",
    "So what do $\\Delta_0$ and $\\Delta_1$ look like in binary?  Here is the mathematical representation implemented in floating point numbers:\n",
    "\n",
    "![IEEE FPN](https://upload.wikimedia.org/wikipedia/commons/thumb/a/a9/IEEE_754_Double_Floating_Point_Format.svg/1024px-IEEE_754_Double_Floating_Point_Format.svg.png)\n",
    "\n",
    "$$\n",
    "\\left(-1\\right)^{sign}\\left(1+\\sum_{i=1}^{52}b_{52-i}2^{-1}\\right)\\times 2^{e-1023}\n",
    "$$\n",
    "\n",
    "(There are some details we are going to skip over here. See the Wikipedia article on the [IEEE Floating Point standard](https://en.wikipedia.org/wiki/Double-precision_floating-point_format) for more details.)\n",
    "\n",
    "the function `floatbits` takes a floating point number and renders it as the bits used in the computer to represent it, inserting an underscore between the sign bit, exponent, and fraction."
   ]
  },
  {
   "cell_type": "code",
   "execution_count": null,
   "id": "a9214c8b",
   "metadata": {},
   "outputs": [],
   "source": [
    "floatbits(Δ₀)"
   ]
  },
  {
   "cell_type": "code",
   "execution_count": null,
   "id": "749d44d3",
   "metadata": {},
   "outputs": [],
   "source": [
    "floatbits(Δ₁)"
   ]
  },
  {
   "cell_type": "markdown",
   "id": "52f57fcb",
   "metadata": {},
   "source": [
    "## Anything notable?\n",
    "\n",
    "## Here are some other examples\n",
    "\n",
    "- $\\pi$: irrational\n",
    "- $\\frac{1}{3}$ rational (repeating decimal)"
   ]
  },
  {
   "cell_type": "code",
   "execution_count": null,
   "id": "229370a8",
   "metadata": {},
   "outputs": [],
   "source": [
    "floatbits(Float64(π))"
   ]
  },
  {
   "cell_type": "code",
   "execution_count": null,
   "id": "9815c1c0",
   "metadata": {},
   "outputs": [],
   "source": [
    "floatbits(1/3)"
   ]
  },
  {
   "cell_type": "markdown",
   "id": "a12c8afb",
   "metadata": {},
   "source": [
    "## An easy problem"
   ]
  },
  {
   "cell_type": "code",
   "execution_count": null,
   "id": "c8d55d53",
   "metadata": {},
   "outputs": [],
   "source": [
    "d = 0.0\n",
    "while d != 0.3\n",
    "    d += 0.1\n",
    "end"
   ]
  },
  {
   "cell_type": "code",
   "execution_count": null,
   "id": "a3da7b0c",
   "metadata": {},
   "outputs": [],
   "source": [
    "d"
   ]
  },
  {
   "cell_type": "code",
   "execution_count": null,
   "id": "935618eb",
   "metadata": {},
   "outputs": [],
   "source": [
    "d = 0.0\n",
    "while d != 1.0\n",
    "    d += 0.125\n",
    "end"
   ]
  },
  {
   "cell_type": "code",
   "execution_count": null,
   "id": "9ac595df",
   "metadata": {},
   "outputs": [],
   "source": [
    "d"
   ]
  },
  {
   "cell_type": "markdown",
   "id": "7a1d8dcc",
   "metadata": {},
   "source": [
    "## Let's implement some functions to compute elapsed time (`etime`)\n",
    "\n",
    "- `etime64` represents floating point numbers with 64 bits\n",
    "- `etime32` represents floating point numbers with 32 bits\n",
    "  - Rounding behavior is mansged by the IEEE floating point standard\n",
    "- `etimetr` represents floating point numbers with 64 bits\n",
    "    - We truncate so that we only have 24 bits of the fraction (instead of 52 bits)"
   ]
  },
  {
   "cell_type": "code",
   "execution_count": null,
   "id": "5bfeb5c0",
   "metadata": {},
   "outputs": [],
   "source": [
    "function etime64(et::Int64, ni::Int64)::Float64\n",
    "    δt = 1.0::Float64/ni\n",
    "    t = 0.0\n",
    "    for i in 1:et*ni\n",
    "        t = t + δt\n",
    "    end\n",
    "    t\n",
    "end"
   ]
  },
  {
   "cell_type": "code",
   "execution_count": null,
   "id": "5aae1ab9",
   "metadata": {},
   "outputs": [],
   "source": [
    "function etime32(et::Int64, ni::Int64)::Float32\n",
    "    δt = 1.0f0/ni\n",
    "    t = 0.0f0\n",
    "    for i in 1:et*ni\n",
    "        t = t + δt\n",
    "    end\n",
    "    t\n",
    "end"
   ]
  },
  {
   "cell_type": "code",
   "execution_count": null,
   "id": "15f8509f",
   "metadata": {},
   "outputs": [],
   "source": [
    "function etimetr(et::Int64, ni::Int64)\n",
    "    δt = 1.0f0/ni\n",
    "    t = 0.0\n",
    "    for i in 1:et*ni\n",
    "        t = mask_float_bitstring(t + δt, 24)\n",
    "    end\n",
    "    t\n",
    "end"
   ]
  },
  {
   "cell_type": "markdown",
   "id": "d8ef1e2c",
   "metadata": {},
   "source": [
    "### 64 bit"
   ]
  },
  {
   "cell_type": "code",
   "execution_count": null,
   "id": "03e0fd2e",
   "metadata": {},
   "outputs": [],
   "source": [
    "etime64(3600, 10)"
   ]
  },
  {
   "cell_type": "markdown",
   "id": "97413b69",
   "metadata": {},
   "source": [
    "#### What is our error?"
   ]
  },
  {
   "cell_type": "code",
   "execution_count": null,
   "id": "7ce6cda8",
   "metadata": {},
   "outputs": [],
   "source": [
    "etime64(3600, 10) - 3600"
   ]
  },
  {
   "cell_type": "markdown",
   "id": "7b309b18",
   "metadata": {},
   "source": [
    "### 32 bit"
   ]
  },
  {
   "cell_type": "code",
   "execution_count": null,
   "id": "f8617661",
   "metadata": {},
   "outputs": [],
   "source": [
    "etime32(3600, 10)"
   ]
  },
  {
   "cell_type": "code",
   "execution_count": null,
   "id": "c5d3f328",
   "metadata": {},
   "outputs": [],
   "source": [
    "etime32(3600, 10) - 3600"
   ]
  },
  {
   "cell_type": "markdown",
   "id": "49f2bc4d",
   "metadata": {},
   "source": [
    "### truncated"
   ]
  },
  {
   "cell_type": "markdown",
   "id": "195717d2",
   "metadata": {},
   "source": [
    "### This one is slow"
   ]
  },
  {
   "cell_type": "code",
   "execution_count": null,
   "id": "f510859a",
   "metadata": {},
   "outputs": [],
   "source": [
    "etimetr(3600, 10)"
   ]
  },
  {
   "cell_type": "code",
   "execution_count": null,
   "id": "12dc2954",
   "metadata": {},
   "outputs": [],
   "source": [
    "etimetr(3600, 10) - 3600"
   ]
  },
  {
   "cell_type": "markdown",
   "id": "642dc21a",
   "metadata": {},
   "source": [
    "### What if we repeat this with a base-2-informed increment?"
   ]
  },
  {
   "cell_type": "code",
   "execution_count": null,
   "id": "7ffe0243",
   "metadata": {},
   "outputs": [],
   "source": [
    "etime64(3600, 16), etime64(3600, 16) - 3600"
   ]
  },
  {
   "cell_type": "code",
   "execution_count": null,
   "id": "6317b4e7",
   "metadata": {},
   "outputs": [],
   "source": [
    "etime32(3600, 16), etime32(3600, 16) - 3600"
   ]
  },
  {
   "cell_type": "code",
   "execution_count": null,
   "id": "7b951f15",
   "metadata": {},
   "outputs": [],
   "source": [
    "etimetr(3600, 16), etimetr(3600, 16) - 3600"
   ]
  },
  {
   "cell_type": "code",
   "execution_count": null,
   "id": "c398b473",
   "metadata": {},
   "outputs": [],
   "source": []
  }
 ],
 "metadata": {
  "@webio": {
   "lastCommId": null,
   "lastKernelId": null
  },
  "kernelspec": {
   "display_name": "Julia 1.7.0",
   "language": "julia",
   "name": "julia-1.7"
  },
  "language_info": {
   "file_extension": ".jl",
   "mimetype": "application/julia",
   "name": "julia",
   "version": "1.7.3"
  }
 },
 "nbformat": 4,
 "nbformat_minor": 5
}
