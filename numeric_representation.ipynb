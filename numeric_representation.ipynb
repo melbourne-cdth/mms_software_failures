{
 "cells": [
  {
   "cell_type": "code",
   "execution_count": null,
   "id": "7382bb1b",
   "metadata": {},
   "outputs": [],
   "source": [
    "include(\"Utils.jl\") ;"
   ]
  },
  {
   "cell_type": "markdown",
   "id": "dca79726",
   "metadata": {},
   "source": [
    "# Some basic computing principles and their relationships to potential software failures\n",
    "\n",
    "The examples I'm going to give are primarily in [Julia](https://julialang.org/), but the basic ideas are true for all languages. How a particular language deals with a failure, however, will be unique.\n"
   ]
  },
  {
   "cell_type": "markdown",
   "id": "fac7b1ac",
   "metadata": {},
   "source": [
    "## Here is a simple question.\n",
    "\n",
    "What is the difference between `x`, `y`, and `z` in the code below?\n",
    "\n",
    "```Julia\n",
    "x = 1\n",
    "y = 1.0\n",
    "z = \"1.0\"\n",
    "```\n",
    "\n",
    "We can have Julia tell us what these variables are:"
   ]
  },
  {
   "cell_type": "code",
   "execution_count": null,
   "id": "158b78bb",
   "metadata": {},
   "outputs": [],
   "source": [
    "x= 1; y = 1.0 ; z = \"1.5\" ;"
   ]
  },
  {
   "cell_type": "code",
   "execution_count": null,
   "id": "fbf8abda",
   "metadata": {},
   "outputs": [],
   "source": [
    "println(typesof(1,1.0,\"1.0\"))"
   ]
  },
  {
   "cell_type": "markdown",
   "id": "2790aeef",
   "metadata": {},
   "source": [
    "Each of these representation has implications for what can be done with them. Let's start by looking at `Int64` a computer representation of an integer.\n",
    "\n",
    "What is the result of the following statements?\n",
    "\n",
    "- $3 + 1$\n",
    "- $13527 + 1$\n",
    "- $9223372036854775807 + 1$"
   ]
  },
  {
   "cell_type": "code",
   "execution_count": null,
   "id": "b6a20a3a",
   "metadata": {},
   "outputs": [],
   "source": [
    "3+1"
   ]
  },
  {
   "cell_type": "code",
   "execution_count": null,
   "id": "b826f36e",
   "metadata": {},
   "outputs": [],
   "source": [
    "13527+1"
   ]
  },
  {
   "cell_type": "code",
   "execution_count": null,
   "id": "9547d272",
   "metadata": {},
   "outputs": [],
   "source": [
    "9223372036854775807+1"
   ]
  },
  {
   "cell_type": "code",
   "execution_count": null,
   "id": "2a72d00d",
   "metadata": {},
   "outputs": [],
   "source": [
    "overflows"
   ]
  },
  {
   "cell_type": "markdown",
   "id": "2381502b",
   "metadata": {},
   "source": [
    "## Key Concept\n",
    "\n",
    "<p style=\"color:#CD5C5C; font-size:48px\">Computers are finite!</p><br>"
   ]
  },
  {
   "cell_type": "markdown",
   "id": "be909699",
   "metadata": {},
   "source": [
    "## Here is a more subtle question\n",
    "\n",
    "### Can you identify any notable differences between the following two numbers?\n",
    "\n",
    "```julia\n",
    "\n",
    "0.1 ;\n",
    "0.125 ;\n",
    "```\n"
   ]
  },
  {
   "cell_type": "markdown",
   "id": "f5c94cd3",
   "metadata": {},
   "source": [
    "### Create variables with these values"
   ]
  },
  {
   "cell_type": "code",
   "execution_count": null,
   "id": "8ea6f05f",
   "metadata": {},
   "outputs": [],
   "source": [
    "Δ₀ = 0.1"
   ]
  },
  {
   "cell_type": "code",
   "execution_count": null,
   "id": "53014265",
   "metadata": {},
   "outputs": [],
   "source": [
    "Δ₁ = 0.125"
   ]
  },
  {
   "cell_type": "code",
   "execution_count": null,
   "id": "ab41b9a3",
   "metadata": {},
   "outputs": [],
   "source": [
    "typeof(Δ₀), typeof(Δ₁)"
   ]
  },
  {
   "cell_type": "markdown",
   "id": "8d8688e6",
   "metadata": {},
   "source": [
    "Remember how we represent numbers in our __positional number representation__.\n",
    "\n",
    "The number `1893` means\n",
    "\n",
    "$$\n",
    "1\\times 10^3 + 8\\times 10^2 + 9\\times 10^1 +3\\times10^0\n",
    "$$\n",
    "\n",
    "And the number `18.93` means\n",
    "\n",
    "$$\n",
    "1\\times 10^1 + 8\\times 10^0 + 9\\times 10^{-1} + 3\\times 10^{-2}\n",
    "$$\n",
    "\n",
    "These numbers are __base 10__ because each position represents a different power of 10.\n",
    "\n",
    "But recall from module 1, computers are __base 2__ (binary).\n",
    "\n",
    "So what do $\\Delta_0$ and $\\Delta_1$ look like in binary?  Here is the mathematical representation implemented in floating point numbers:\n",
    "\n",
    "![IEEE FPN](https://upload.wikimedia.org/wikipedia/commons/thumb/a/a9/IEEE_754_Double_Floating_Point_Format.svg/1024px-IEEE_754_Double_Floating_Point_Format.svg.png)\n",
    "\n",
    "$$\n",
    "\\left(-1\\right)^{sign}\\left(1+\\sum_{i=1}^{52}b_{52-i}2^{-1}\\right)\\times 2^{e-1023}\n",
    "$$\n",
    "\n",
    "(There are some details we are going to skip over here. See the Wikipedia article on the [IEEE Floating Point standard](https://en.wikipedia.org/wiki/Double-precision_floating-point_format) for more details.)\n",
    "\n",
    "the function `floatbits` takes a floating point number and renders it as the bits used in the computer to represent it, inserting an underscore between the sign bit, exponent, and fraction."
   ]
  },
  {
   "cell_type": "code",
   "execution_count": null,
   "id": "5bacaa66",
   "metadata": {},
   "outputs": [],
   "source": [
    "floatbits(Δ₀)"
   ]
  },
  {
   "cell_type": "code",
   "execution_count": null,
   "id": "87dc49d0",
   "metadata": {},
   "outputs": [],
   "source": [
    "floatbits(Δ₁)"
   ]
  },
  {
   "cell_type": "markdown",
   "id": "3c47fb8a",
   "metadata": {},
   "source": [
    "## Anything notable?\n",
    "\n",
    "## Here are some other examples\n",
    "\n",
    "- $\\pi$: irrational\n",
    "- $\\frac{1}{3}$ rational (repeating decimal)"
   ]
  },
  {
   "cell_type": "code",
   "execution_count": null,
   "id": "4eeb4d69",
   "metadata": {},
   "outputs": [],
   "source": [
    "floatbits(Float64(π))"
   ]
  },
  {
   "cell_type": "code",
   "execution_count": null,
   "id": "64b130f0",
   "metadata": {},
   "outputs": [],
   "source": [
    "floatbits(1/3)"
   ]
  },
  {
   "cell_type": "markdown",
   "id": "5e15570c",
   "metadata": {},
   "source": [
    "## An easy problem"
   ]
  },
  {
   "cell_type": "code",
   "execution_count": null,
   "id": "414e8d29",
   "metadata": {},
   "outputs": [],
   "source": [
    "d = 0.0\n",
    "while d != 0.3\n",
    "    d += 0.1\n",
    "end"
   ]
  },
  {
   "cell_type": "code",
   "execution_count": null,
   "id": "a4f7efd5",
   "metadata": {},
   "outputs": [],
   "source": [
    "d = 0.0\n",
    "while d != 1.0\n",
    "    d += 0.125\n",
    "end"
   ]
  },
  {
   "cell_type": "markdown",
   "id": "77ec1f6f",
   "metadata": {},
   "source": [
    "## Let's implement some functions to compute elapsed time (`etime`)\n",
    "\n",
    "- `etime64` represents floating point numbers with 64 bits\n",
    "- `etime32` represents floating point numbers with 32 bits\n",
    "  - Rounding behavior is mansged by the IEEE floating point standard\n",
    "- `etimetr` represents floating point numbers with 64 bits\n",
    "    - We truncate so that we only have 24 bits of the fraction (instead of 52 bits)"
   ]
  },
  {
   "cell_type": "code",
   "execution_count": null,
   "id": "164b9cc6",
   "metadata": {},
   "outputs": [],
   "source": [
    "function etime64(et::Int64, ni::Int64)::Float64\n",
    "    δt = 1.0::Float64/ni\n",
    "    t = 0.0\n",
    "    for i in 1:et*ni\n",
    "        t = t + δt\n",
    "    end\n",
    "    t\n",
    "end"
   ]
  },
  {
   "cell_type": "code",
   "execution_count": null,
   "id": "d0276f48",
   "metadata": {},
   "outputs": [],
   "source": [
    "function etime32(et::Int64, ni::Int64)::Float32\n",
    "    δt = 1.0f0/ni\n",
    "    t = 0.0f0\n",
    "    for i in 1:et*ni\n",
    "        t = t + δt\n",
    "    end\n",
    "    t\n",
    "end"
   ]
  },
  {
   "cell_type": "code",
   "execution_count": null,
   "id": "449044d7",
   "metadata": {},
   "outputs": [],
   "source": [
    "function etimetr(et::Int64, ni::Int64)\n",
    "    δt = 1.0f0/ni\n",
    "    t = 0.0\n",
    "    for i in 1:et*ni\n",
    "        t = mask_float_bitstring(t + δt, 24)\n",
    "    end\n",
    "    t\n",
    "end"
   ]
  },
  {
   "cell_type": "markdown",
   "id": "f8a20f0a",
   "metadata": {},
   "source": [
    "### 64 bit"
   ]
  },
  {
   "cell_type": "code",
   "execution_count": null,
   "id": "32c9099e",
   "metadata": {},
   "outputs": [],
   "source": [
    "etime64(3600, 10)"
   ]
  },
  {
   "cell_type": "markdown",
   "id": "ce5897e6",
   "metadata": {},
   "source": [
    "#### What is our error?"
   ]
  },
  {
   "cell_type": "code",
   "execution_count": null,
   "id": "6273d94b",
   "metadata": {},
   "outputs": [],
   "source": [
    "etime64(3600, 10) - 3600"
   ]
  },
  {
   "cell_type": "markdown",
   "id": "b51e52a3",
   "metadata": {},
   "source": [
    "### 32 bit"
   ]
  },
  {
   "cell_type": "code",
   "execution_count": null,
   "id": "a68e195e",
   "metadata": {},
   "outputs": [],
   "source": [
    "etime32(3600, 10)"
   ]
  },
  {
   "cell_type": "code",
   "execution_count": null,
   "id": "c0f8f0e3",
   "metadata": {},
   "outputs": [],
   "source": [
    "etime32(3600, 10) - 3600"
   ]
  },
  {
   "cell_type": "markdown",
   "id": "7d8b3d9a",
   "metadata": {},
   "source": [
    "### truncated"
   ]
  },
  {
   "cell_type": "markdown",
   "id": "162de712",
   "metadata": {},
   "source": [
    "### This one is slow"
   ]
  },
  {
   "cell_type": "code",
   "execution_count": null,
   "id": "54c635ea",
   "metadata": {},
   "outputs": [],
   "source": [
    "etimetr(3600, 10)"
   ]
  },
  {
   "cell_type": "code",
   "execution_count": null,
   "id": "d00c7604",
   "metadata": {},
   "outputs": [],
   "source": [
    "etimetr(3600, 10) - 3600"
   ]
  },
  {
   "cell_type": "markdown",
   "id": "a1c3cfb2",
   "metadata": {},
   "source": [
    "### What if we repeat this with a base-2-informed increment?"
   ]
  },
  {
   "cell_type": "code",
   "execution_count": null,
   "id": "e07ba43a",
   "metadata": {},
   "outputs": [],
   "source": [
    "etime64(3600, 16), etime64(3600, 16) - 3600"
   ]
  },
  {
   "cell_type": "code",
   "execution_count": null,
   "id": "45c73987",
   "metadata": {},
   "outputs": [],
   "source": [
    "etime32(3600, 16), etime32(3600, 16) - 3600"
   ]
  },
  {
   "cell_type": "code",
   "execution_count": null,
   "id": "dcb4ccbd",
   "metadata": {},
   "outputs": [],
   "source": [
    "etimetr(3600, 16), etimetr(3600, 16) - 3600"
   ]
  },
  {
   "cell_type": "code",
   "execution_count": null,
   "id": "ad9d8c29",
   "metadata": {},
   "outputs": [],
   "source": []
  }
 ],
 "metadata": {
  "@webio": {
   "lastCommId": null,
   "lastKernelId": null
  },
  "kernelspec": {
   "display_name": "Julia 1.7.0",
   "language": "julia",
   "name": "julia-1.7"
  },
  "language_info": {
   "file_extension": ".jl",
   "mimetype": "application/julia",
   "name": "julia",
   "version": "1.7.3"
  }
 },
 "nbformat": 4,
 "nbformat_minor": 5
}
