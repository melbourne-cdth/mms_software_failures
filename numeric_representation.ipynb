{
 "cells": [
  {
   "cell_type": "code",
   "execution_count": null,
   "id": "75e70dbf",
   "metadata": {},
   "outputs": [],
   "source": [
    "using Pkg\n",
    "Pkg.activate(\".\")"
   ]
  },
  {
   "cell_type": "code",
   "execution_count": null,
   "id": "95049c0f",
   "metadata": {},
   "outputs": [],
   "source": [
    "using Markdown"
   ]
  },
  {
   "cell_type": "code",
   "execution_count": null,
   "id": "3782fd57",
   "metadata": {},
   "outputs": [],
   "source": [
    "md\"\"\"\n",
    "# Some basic computing principles and their relationships to potential software failures\n",
    "\n",
    "The examples I'm going to give are primarily in [Julia](https://julialang.org/), but the basic ideas are true for all languages. How a particular language deals with a failure, however, will be unique.\n",
    "\"\"\""
   ]
  },
  {
   "cell_type": "markdown",
   "id": "f2e8a8e9",
   "metadata": {},
   "source": [
    "## Here is a simple question.\n",
    "\n",
    "What is the difference between `x`, `y`, and `z` in the code below?\n",
    "\n",
    "```Julia\n",
    "x = 1\n",
    "y = 1.0\n",
    "z = \"1.0\"\n",
    "```\n",
    "\n",
    "We can have Julia tell us what these variables are:"
   ]
  },
  {
   "cell_type": "code",
   "execution_count": null,
   "id": "9c0d4ce3",
   "metadata": {},
   "outputs": [],
   "source": [
    "x= 1; y = 1.0 ; z = \"1.0\" ;"
   ]
  },
  {
   "cell_type": "code",
   "execution_count": null,
   "id": "e23acb6d",
   "metadata": {},
   "outputs": [],
   "source": [
    "t1 = md\"\"\"\n",
    "- The type of x is $(typeof(x))\n",
    "- The type of y is $(typeof(y))\n",
    "- The type of z is $(typeof(z))\n",
    "\"\"\" ;"
   ]
  },
  {
   "cell_type": "code",
   "execution_count": null,
   "id": "a8e10453",
   "metadata": {},
   "outputs": [],
   "source": [
    "t1"
   ]
  },
  {
   "cell_type": "code",
   "execution_count": null,
   "id": "4deddcee",
   "metadata": {},
   "outputs": [],
   "source": [
    "md\"\"\"\n",
    "## Here is a more subtle question\n",
    "\n",
    "### Can you identify any notable differences between the following two numbers?\n",
    "\n",
    "```julia\n",
    "\n",
    "0.1 ;\n",
    "0.125 ;\n",
    "```\n",
    "\"\"\""
   ]
  },
  {
   "cell_type": "code",
   "execution_count": null,
   "id": "e7739b6f",
   "metadata": {},
   "outputs": [],
   "source": [
    "Δ₀ = 0.1"
   ]
  },
  {
   "cell_type": "code",
   "execution_count": null,
   "id": "5860bca8",
   "metadata": {},
   "outputs": [],
   "source": [
    "Δ₁ = 0.125"
   ]
  },
  {
   "cell_type": "code",
   "execution_count": null,
   "id": "8bd28efe",
   "metadata": {},
   "outputs": [],
   "source": [
    "typeof(Δ₀), typeof(Δ₁)"
   ]
  },
  {
   "cell_type": "markdown",
   "id": "6e20930d",
   "metadata": {},
   "source": [
    "Remember how we represent numbers in our __positional number representation__.\n",
    "\n",
    "The number `1893` means\n",
    "\n",
    "$$\n",
    "1\\times 10^3 + 8\\times 10^2 + 9\\times 10^1 +3\\times10^0\n",
    "$$\n",
    "\n",
    "And the number `18.93` means\n",
    "\n",
    "$$\n",
    "1\\times 10^1 + 8\\times 10^0 + 9\\times 10^{-1} + 3\\times 10^{-2}\n",
    "$$\n",
    "\n",
    "These numbers are __base 10__ because each position represents a different power of 10.\n",
    "\n",
    "But recall from module 1, computers are __base 2__ (binary).\n",
    "\n",
    "So what do $\\Delta_0$ and $\\Delta_1$ look like in binary? (There are some details we are going to skip over here.)"
   ]
  },
  {
   "cell_type": "code",
   "execution_count": null,
   "id": "98a868b7",
   "metadata": {},
   "outputs": [],
   "source": [
    "bitstring(Δ₀)"
   ]
  },
  {
   "cell_type": "code",
   "execution_count": null,
   "id": "7f23e76b",
   "metadata": {},
   "outputs": [],
   "source": [
    "bitstring(Δ₁)"
   ]
  },
  {
   "cell_type": "code",
   "execution_count": null,
   "id": "f6c032f9",
   "metadata": {},
   "outputs": [],
   "source": [
    "?ccall"
   ]
  },
  {
   "cell_type": "code",
   "execution_count": null,
   "id": "046e1bac",
   "metadata": {},
   "outputs": [],
   "source": []
  }
 ],
 "metadata": {
  "kernelspec": {
   "display_name": "Julia 1.7.0",
   "language": "julia",
   "name": "julia-1.7"
  },
  "language_info": {
   "file_extension": ".jl",
   "mimetype": "application/julia",
   "name": "julia",
   "version": "1.7.3"
  }
 },
 "nbformat": 4,
 "nbformat_minor": 5
}
