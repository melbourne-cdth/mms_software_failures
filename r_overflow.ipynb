{
 "cells": [
  {
   "cell_type": "code",
   "execution_count": null,
   "id": "03564150",
   "metadata": {},
   "outputs": [],
   "source": [
    "9223372036854775807 + 1"
   ]
  },
  {
   "cell_type": "code",
   "execution_count": null,
   "id": "8801e6bf",
   "metadata": {},
   "outputs": [],
   "source": []
  }
 ],
 "metadata": {
  "kernelspec": {
   "display_name": "R",
   "language": "R",
   "name": "ir"
  },
  "language_info": {
   "codemirror_mode": "r",
   "file_extension": ".r",
   "mimetype": "text/x-r-source",
   "name": "R",
   "pygments_lexer": "r",
   "version": "4.1.0"
  }
 },
 "nbformat": 4,
 "nbformat_minor": 5
}
